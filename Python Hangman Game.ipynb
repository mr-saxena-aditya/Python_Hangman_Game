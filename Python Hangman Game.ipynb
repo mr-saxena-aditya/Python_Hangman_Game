{
 "cells": [
  {
   "cell_type": "code",
   "execution_count": 175,
   "id": "f23cdb60",
   "metadata": {},
   "outputs": [],
   "source": [
    "# Importing the required libraries\n",
    "\n",
    "import os\n",
    "import sys\n",
    "import csv\n",
    "import random"
   ]
  },
  {
   "cell_type": "code",
   "execution_count": 176,
   "id": "6b4feef1",
   "metadata": {},
   "outputs": [
    {
     "name": "stdout",
     "output_type": "stream",
     "text": [
      "manipulation\n"
     ]
    }
   ],
   "source": [
    "# Open the CSV file\n",
    "with open('words.csv', newline='') as csvfile:\n",
    "    # Create a CSV reader object\n",
    "    reader = csv.reader(csvfile)\n",
    "\n",
    "    # Store all the words in a list\n",
    "    words = [word for row in reader for word in row]\n",
    "\n",
    "# Pick a random word from the list\n",
    "random_word = random.choice(words).lower()\n",
    "\n",
    "# Test : Print the random word\n",
    "# \n",
    "print(random_word)\n"
   ]
  },
  {
   "cell_type": "code",
   "execution_count": 177,
   "id": "90dcb18e",
   "metadata": {},
   "outputs": [
    {
     "name": "stdout",
     "output_type": "stream",
     "text": [
      "{'u', 'l', 't', 'o', 'i', 'a', 'n', 'p', 'm'}\n"
     ]
    }
   ],
   "source": [
    "# Convert the word to a set of characters\n",
    "unique_letters = set(random_word)\n",
    "\n",
    "# Test : Print the unique letters\n",
    "# \n",
    "print(unique_letters)\n"
   ]
  },
  {
   "cell_type": "code",
   "execution_count": 178,
   "id": "64a991fa",
   "metadata": {},
   "outputs": [
    {
     "name": "stdout",
     "output_type": "stream",
     "text": [
      "12\n"
     ]
    }
   ],
   "source": [
    "# Get the number of letters in the word\n",
    "num_letters = len(random_word)\n",
    "\n",
    "# Test : Print the number of letters\n",
    "# \n",
    "print(num_letters)"
   ]
  },
  {
   "cell_type": "code",
   "execution_count": 179,
   "id": "c340fda8",
   "metadata": {},
   "outputs": [
    {
     "name": "stdout",
     "output_type": "stream",
     "text": [
      "\n",
      "----------------------------------------------------------------------------------------------\n",
      "HANGMAN by Aditya.\n",
      "----------------------------------------------------------------------------------------------\n",
      "\n",
      "1) There are 12 in this randomly selected word.\n",
      "2) You have 7 lives.\n",
      "3) If you make an correct guess then you lose a life!\n",
      "\n",
      "----------------------------------------------------------------------------------------------\n",
      "Good Luck!\n",
      "----------------------------------------------------------------------------------------------\n"
     ]
    }
   ],
   "source": [
    "print(f\"\\n----------------------------------------------------------------------------------------------\\nHANGMAN by Aditya.\\n----------------------------------------------------------------------------------------------\\n\\n1) There are {num_letters} in this randomly selected word.\\n2) You have 7 lives.\\n3) If you make an correct guess then you lose a life!\\n\\n----------------------------------------------------------------------------------------------\\nGood Luck!\\n----------------------------------------------------------------------------------------------\")"
   ]
  },
  {
   "cell_type": "code",
   "execution_count": 180,
   "id": "cc74d801",
   "metadata": {},
   "outputs": [],
   "source": [
    "# Set the initial number of lives\n",
    "lives = 7"
   ]
  },
  {
   "cell_type": "code",
   "execution_count": 181,
   "id": "b40f7bca",
   "metadata": {},
   "outputs": [
    {
     "name": "stdout",
     "output_type": "stream",
     "text": [
      "____________\n"
     ]
    }
   ],
   "source": [
    "# Define the length of the string\n",
    "length = num_letters\n",
    "\n",
    "# Create a list of underscores\n",
    "underscores = ['_'] * length\n",
    "\n",
    "# Join the list of underscores into a single string\n",
    "underscore_string = ''.join(underscores)\n",
    "\n",
    "# Print the string\n",
    "print(underscore_string)"
   ]
  },
  {
   "cell_type": "code",
   "execution_count": 182,
   "id": "906bfd99",
   "metadata": {},
   "outputs": [
    {
     "name": "stdout",
     "output_type": "stream",
     "text": [
      "Please enter a single letter: a\n",
      "Your input is: a\n",
      "The word is in the set\n",
      "----------------------------------------------------------\n",
      "Keep playing.\n",
      "Updated String : _a_____a____\n",
      "Lives Left : You have 7 left!\n",
      "----------------------------------------------------------\n",
      "Please enter a single letter: p\n",
      "Your input is: p\n",
      "The word is in the set\n",
      "----------------------------------------------------------\n",
      "Keep playing.\n",
      "Updated String : _a__p__a____\n",
      "Lives Left : You have 7 left!\n",
      "----------------------------------------------------------\n",
      "Please enter a single letter: i\n",
      "Your input is: i\n",
      "The word is in the set\n",
      "----------------------------------------------------------\n",
      "Keep playing.\n",
      "Updated String : _a_ip__a_i__\n",
      "Lives Left : You have 7 left!\n",
      "----------------------------------------------------------\n",
      "Please enter a single letter: n\n",
      "Your input is: n\n",
      "The word is in the set\n",
      "----------------------------------------------------------\n",
      "Keep playing.\n",
      "Updated String : _anip__a_i_n\n",
      "Lives Left : You have 7 left!\n",
      "----------------------------------------------------------\n",
      "Please enter a single letter: u\n",
      "Your input is: u\n",
      "The word is in the set\n",
      "----------------------------------------------------------\n",
      "Keep playing.\n",
      "Updated String : _anipu_a_i_n\n",
      "Lives Left : You have 7 left!\n",
      "----------------------------------------------------------\n",
      "Please enter a single letter: l\n",
      "Your input is: l\n",
      "The word is in the set\n",
      "----------------------------------------------------------\n",
      "Keep playing.\n",
      "Updated String : _anipula_i_n\n",
      "Lives Left : You have 7 left!\n",
      "----------------------------------------------------------\n",
      "Please enter a single letter: t\n",
      "Your input is: t\n",
      "The word is in the set\n",
      "----------------------------------------------------------\n",
      "Keep playing.\n",
      "Updated String : _anipulati_n\n",
      "Lives Left : You have 7 left!\n",
      "----------------------------------------------------------\n",
      "Please enter a single letter: r\n",
      "Your input is: r\n",
      "The word is not in the set\n",
      "----------------------------------------------------------\n",
      "Keep playing.\n",
      "Updated String : _anipulati_n\n",
      "Lives Left : You have 6 left!\n",
      "----------------------------------------------------------\n",
      "Please enter a single letter: e\n",
      "Your input is: e\n",
      "The word is not in the set\n",
      "----------------------------------------------------------\n",
      "Keep playing.\n",
      "Updated String : _anipulati_n\n",
      "Lives Left : You have 5 left!\n",
      "----------------------------------------------------------\n",
      "Please enter a single letter: w\n",
      "Your input is: w\n",
      "The word is not in the set\n",
      "----------------------------------------------------------\n",
      "Keep playing.\n",
      "Updated String : _anipulati_n\n",
      "Lives Left : You have 4 left!\n",
      "----------------------------------------------------------\n",
      "Please enter a single letter: q\n",
      "Your input is: q\n",
      "The word is not in the set\n",
      "----------------------------------------------------------\n",
      "Keep playing.\n",
      "Updated String : _anipulati_n\n",
      "Lives Left : You have 3 left!\n",
      "----------------------------------------------------------\n",
      "Please enter a single letter: s\n",
      "Your input is: s\n",
      "The word is not in the set\n",
      "----------------------------------------------------------\n",
      "Keep playing.\n",
      "Updated String : _anipulati_n\n",
      "Lives Left : You have 2 left!\n",
      "----------------------------------------------------------\n",
      "Please enter a single letter: m\n",
      "Your input is: m\n",
      "The word is in the set\n",
      "----------------------------------------------------------\n",
      "Keep playing.\n",
      "Updated String : manipulati_n\n",
      "Lives Left : You have 2 left!\n",
      "----------------------------------------------------------\n",
      "Please enter a single letter: o\n",
      "Your input is: o\n",
      "The word is in the set\n",
      "----------------------------------------------------------\n",
      "Congratulations! the word was -  manipulation\n",
      "You won!\n",
      "Game over\n"
     ]
    }
   ],
   "source": [
    "# Loop until there are no more lives left\n",
    "while lives > 0:\n",
    "    try:\n",
    "        # Ask the user for an input\n",
    "        user_input = input(\"Please enter a single letter: \")\n",
    "\n",
    "        # Check if the input is a single letter\n",
    "        if len(user_input) != 1:\n",
    "            # Raise an error if the input is not a single letter\n",
    "            raise ValueError(\"Input must be a single letter\")\n",
    "        \n",
    "        if not user_input.isalpha():\n",
    "            raise ValueError(\"Input must be an alphabet letter\")\n",
    "\n",
    "        # Print the input if it is a single letter\n",
    "        print(\"Your input is:\", user_input)\n",
    "        \n",
    "        if user_input in random_word:\n",
    "            print(\"The word is in the set\")\n",
    "            \n",
    "            # Find the indices of the letter in the first string\n",
    "            indices = [i for i in range(len(random_word)) if random_word[i] == user_input]\n",
    "\n",
    "            for index in indices:\n",
    "                # Remove the letter from string2 and replace it with the search letter\n",
    "                underscore_string = underscore_string[:index] + user_input + underscore_string[index+1:]\n",
    "        else:\n",
    "            print(\"The word is not in the set\")\n",
    "            # Decrement the number of lives by 1\n",
    "            lives -= 1\n",
    "            \n",
    "        print(\"----------------------------------------------------------\")\n",
    "        if \"_\" not in underscore_string:\n",
    "            print(\"Congratulations! the word was - \", underscore_string)\n",
    "            print(\"You won!\")\n",
    "            break\n",
    "        else:\n",
    "            print(\"Keep playing.\")\n",
    "        print(\"Updated String :\", underscore_string)\n",
    "        print(f\"Lives Left : You have {lives} left!\")\n",
    "        print(\"----------------------------------------------------------\")\n",
    "\n",
    "    except ValueError as e:\n",
    "        # Handle the error by displaying a message to the user\n",
    "        print(\"Error:\", e)\n",
    "\n",
    "        \n",
    "# Print a message when the game is over\n",
    "print(\"Game over\")\n"
   ]
  },
  {
   "cell_type": "code",
   "execution_count": null,
   "id": "9d4667b1",
   "metadata": {},
   "outputs": [],
   "source": []
  },
  {
   "cell_type": "code",
   "execution_count": null,
   "id": "34ed63c0",
   "metadata": {},
   "outputs": [],
   "source": []
  },
  {
   "cell_type": "code",
   "execution_count": null,
   "id": "a65abbfb",
   "metadata": {},
   "outputs": [],
   "source": []
  }
 ],
 "metadata": {
  "kernelspec": {
   "display_name": "Python 3 (ipykernel)",
   "language": "python",
   "name": "python3"
  },
  "language_info": {
   "codemirror_mode": {
    "name": "ipython",
    "version": 3
   },
   "file_extension": ".py",
   "mimetype": "text/x-python",
   "name": "python",
   "nbconvert_exporter": "python",
   "pygments_lexer": "ipython3",
   "version": "3.9.13"
  }
 },
 "nbformat": 4,
 "nbformat_minor": 5
}
